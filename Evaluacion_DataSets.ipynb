{
  "nbformat": 4,
  "nbformat_minor": 0,
  "metadata": {
    "colab": {
      "provenance": []
    },
    "kernelspec": {
      "name": "python3",
      "display_name": "Python 3"
    },
    "language_info": {
      "name": "python"
    }
  },
  "cells": [
    {
      "cell_type": "code",
      "source": [
        "import pandas as pd\n",
        "import openpyxl\n",
        "from openai import OpenAI, OpenAIError\n",
        "import re\n",
        "import time\n",
        "import openpyxl\n",
        "\n",
        "#Cargamos el archivo de Excel en un DataFrame\n",
        "problemas = pd.read_excel('/content/drive/MyDrive/Traducción_DataSets.xlsx')\n",
        "dataset = pd.DataFrame(problemas)\n",
        "\n",
        "#Inicializamos el cliente de OpenAI (corregido)\n",
        "client = OpenAI(api_key='')\n",
        "\n",
        "#Prueba de conexión con OpenAI\n",
        "response = client.chat.completions.create(\n",
        "    model=\"gpt-3.5-turbo\",\n",
        "    messages=[{\"role\": \"user\", \"content\": \"¿Cuánto es 2+2?\"}]\n",
        ")\n",
        "print(\"Prueba API:\", response.choices[0].message.content)\n",
        "\n",
        "#Función para resolver los problemas aritméticos\n",
        "def solver(cuerpo, pregunta, prompt):\n",
        "    try:\n",
        "        if pd.isna(cuerpo) or pd.isna(pregunta):\n",
        "            return \"El cuerpo o la pregunta está vacío.\"\n",
        "\n",
        "        respuesta = client.chat.completions.create(\n",
        "            model=\"gpt-3.5-turbo\",\n",
        "            messages=[\n",
        "                {\"role\": \"system\", \"content\": \"Eres un asistente que resuelve problemas matemáticos.\"},\n",
        "                {\"role\": \"user\", \"content\": f\"{cuerpo} {pregunta} {prompt}\"}\n",
        "            ]\n",
        "        )\n",
        "\n",
        "        #Acceso al contenido de la respuesta\n",
        "        return respuesta.choices[0].message.content\n",
        "\n",
        "    except OpenAIError as e:\n",
        "        return f\"Error en la API de OpenAI: {str(e)}\"\n",
        "    except Exception as e:\n",
        "        return f\"Error desconocido: {str(e)}\"\n",
        "\n",
        "#Tomamos un subconjunto del Dataset\n",
        "dataset_n = dataset.iloc[:,:]\n",
        "\n",
        "answers = pd.DataFrame(dataset_n)\n",
        "\n",
        "#Aplicamos la función solver a cada fila\n",
        "answers['Solucion'] = answers.apply(lambda row: solver(row.get('Cuerpo', ''), row.get('Pregunta', ''), row.get('Prompt')), axis=1)\n",
        "\n",
        "def numero(respuesta):\n",
        "\n",
        "  sol = re.findall(r'-?\\d+(?:\\.\\d+)?', respuesta)\n",
        "  if sol:\n",
        "    return sol[-1]\n",
        "  else:\n",
        "    return None\n",
        "\n",
        "answers['sol_num'] = answers['Solucion'].apply(numero)\n",
        "\n",
        "answers['Respuesta_GPT'] = answers['sol_num'].round(2)\n",
        "\n",
        "#Configuramos para mostrar todo el contenido de las columnas\n",
        "pd.set_option('display.max_colwidth', None)\n",
        "\n",
        "answers['Acierto'] = answers['Respuesta_GPT'].astype(float) == answers['Respuesta'].astype(float)\n",
        "\n",
        "pd.set_option('display.max_rows', None)\n",
        "\n",
        "evaluacion = pd.DataFrame(answers[['Respuesta_GPT','Respuesta','Acierto']])\n",
        "\n",
        "#print(evaluacion)\n",
        "\n",
        "correct = answers['Acierto'].sum()\n",
        "\n",
        "print(f'Número de respuestas correctas: {correct}')\n",
        "\n",
        "c = len(answers)\n",
        "\n",
        "accuracy = correct / c*100\n",
        "\n",
        "print(f'Porcentaje de aciertos: {accuracy:.2f}%')\n",
        "\n",
        "evaluacion.to_excel('/content/drive/MyDrive/evaluacion.xlsx', index=False)\n"
      ],
      "metadata": {
        "colab": {
          "base_uri": "https://localhost:8080/"
        },
        "id": "U37Ixx9H6x9A",
        "outputId": "735a732e-adb9-46e1-c517-41b4bdffe9d5"
      },
      "execution_count": 13,
      "outputs": [
        {
          "output_type": "stream",
          "name": "stdout",
          "text": [
            "Prueba API: 2+2 es igual a 4.\n",
            "Número de respuestas correctas: 66\n",
            "Porcentaje de aciertos: 66.00%\n"
          ]
        }
      ]
    }
  ]
}